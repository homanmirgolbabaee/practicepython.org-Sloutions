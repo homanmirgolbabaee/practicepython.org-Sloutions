{
  "nbformat": 4,
  "nbformat_minor": 0,
  "metadata": {
    "colab": {
      "name": "Solutions.ipynb",
      "provenance": [],
      "collapsed_sections": [],
      "authorship_tag": "ABX9TyOWieHGmAzkhKYc7CmLPlrq",
      "include_colab_link": true
    },
    "kernelspec": {
      "name": "python3",
      "display_name": "Python 3"
    },
    "language_info": {
      "name": "python"
    }
  },
  "cells": [
    {
      "cell_type": "markdown",
      "metadata": {
        "id": "view-in-github",
        "colab_type": "text"
      },
      "source": [
        "<a href=\"https://colab.research.google.com/github/homanmirgolbabaee/practicepython.org-Sloutions/blob/master/Solutions.ipynb\" target=\"_parent\"><img src=\"https://colab.research.google.com/assets/colab-badge.svg\" alt=\"Open In Colab\"/></a>"
      ]
    },
    {
      "cell_type": "markdown",
      "source": [
        "**11.List Ends Problem**"
      ],
      "metadata": {
        "id": "dH3geRbH-3ZQ"
      }
    },
    {
      "cell_type": "code",
      "execution_count": null,
      "metadata": {
        "colab": {
          "base_uri": "https://localhost:8080/"
        },
        "id": "2EsgGcBH9nyY",
        "outputId": "cfae784e-5aa8-4a05-c990-93b166fbf55e"
      },
      "outputs": [
        {
          "output_type": "stream",
          "name": "stdout",
          "text": [
            "5 \n",
            "3\n",
            "13\n",
            "\n",
            "[5, 3, 13]\n"
          ]
        }
      ],
      "source": [
        "def List_Ends(a):\n",
        "  return [a[0],a[len(a)-1]]"
      ]
    },
    {
      "cell_type": "markdown",
      "source": [
        "**12.Fibonacci**"
      ],
      "metadata": {
        "id": "jC1rLJ-BHx6y"
      }
    },
    {
      "cell_type": "code",
      "source": [
        "def fibonacci(n):\n",
        "  if n == 0 :\n",
        "    return 0\n",
        "  if n == 1 or n == 2 :\n",
        "    return 1\n",
        "  if n<0 : \n",
        "    return ValueError\n",
        "  else:\n",
        "    return fibonacci(n-1) + fibonacci(n-2)\n",
        "  #   Fn = Fn-1 + Fn-2"
      ],
      "metadata": {
        "id": "NEgJglrOH0FE"
      },
      "execution_count": 4,
      "outputs": []
    },
    {
      "cell_type": "code",
      "source": [
        "n = int(input(\"n:\"))\n",
        "print(f\" n={n} result={fibonacci(n)}\")"
      ],
      "metadata": {
        "colab": {
          "base_uri": "https://localhost:8080/"
        },
        "id": "kcqEcU7TJAtt",
        "outputId": "afe20426-df13-4074-feeb-adc6dfd9edbf"
      },
      "execution_count": 12,
      "outputs": [
        {
          "output_type": "stream",
          "name": "stdout",
          "text": [
            "n:3\n",
            " n=3 result=2\n"
          ]
        }
      ]
    }
  ]
}